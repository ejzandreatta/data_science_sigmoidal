{
 "cells": [
  {
   "cell_type": "markdown",
   "metadata": {},
   "source": [
    "<div align=\"center\">\n",
    "  <img alt=\"Casa Rosada\" width=\"75%\" src=\"img/casa_rosada.png\">\n",
    "  <br>\n",
    "</div>\n",
    "\n",
    "\n",
    "## **Projeto 01 - Análise dos Dados do Airbnb - [Buenos Aires, Argentina](https://data.insideairbnb.com/argentina/ciudad-aut%C3%B3noma-de-buenos-aires/buenos-aires/2024-06-29/visualisations/listings.csv)**\n",
    "###### **Data Science na Prática 4.0** [sigmoidal.ai](https://sigmoidal.ai)\n",
    "*by[Jhefferson Z. Andreatta](https://www.linkedin.com/in/e-jhefferson-zardin-andreatta-8ab67723a/)*\n",
    "\n",
    "---"
   ]
  },
  {
   "cell_type": "markdown",
   "metadata": {},
   "source": [
    "<div align=\"justify\">\n",
    "\n",
    "## **Buenos Aires: História, Transformações e Turismo**\n",
    "\n",
    "Buenos Aires, a capital cosmopolita da Argentina, também conhecida como Cidade Autônoma de Buenos Aires (CABA), é uma das metrópoles mais vibrantes e culturais da América Latina. Esta cidade dinâmica é a maior da Argentina e a segunda maior área metropolitana da América do Sul, atrás apenas da Grande São Paulo. Localizada na costa ocidental do estuário do Rio da Prata, Buenos Aires é um centro econômico, cultural e político vital, com uma população de cerca de 13 milhões de pessoas na sua área metropolitana.\n",
    "\n",
    "A cidade de Buenos Aires tem uma história rica que remonta à sua fundação original em 1536 e refundação em 1580. Em 1880, após décadas de conflitos políticos, Buenos Aires foi federalizada e separada da província de Buenos Aires, tornando-se um distrito autônomo. Este movimento incluiu a incorporação das cidades de Belgrano e Flores, agora bairros de Buenos Aires. A emenda constitucional de 1994 concedeu autonomia política à cidade, permitindo que os cidadãos elegessem diretamente seu chefe de governo pela primeira vez em 1996. Antes disso, o prefeito era nomeado pelo Presidente da República.\n",
    "\n",
    "</div>"
   ]
  },
  {
   "cell_type": "markdown",
   "metadata": {},
   "source": [
    "<div align=\"justify\">\n",
    "\n",
    "Hoje, Buenos Aires é uma das 20 maiores cidades do mundo e uma das três únicas cidades latino-americanas consideradas uma cidade global alfa, ao lado de São Paulo e Cidade do México. A cidade é conhecida por seus marcos históricos e culturais, como a Praça de Maio, a Casa Rosada, o Teatro Colón e o museu MALBA. Estes locais emblemáticos atraem turistas de todo o mundo, contribuindo para a sua fama global.\n",
    "\n",
    "### [Airbnb](https://www.airbnb.com.br/) e o Turismo em Buenos Aires\n",
    "\n",
    "Nos últimos anos, a plataforma Airbnb teve um impacto significativo no turismo de [Buenos Aires](https://data.insideairbnb.com/argentina/ciudad-aut%C3%B3noma-de-buenos-aires/buenos-aires/2024-06-29/visualisations/listings.csv). Fundada em 2008, a Airbnb permite que anfitriões aluguem suas propriedades a curto prazo, oferecendo uma alternativa às redes hoteleiras tradicionais. Em Buenos Aires, essa prática se expandiu rapidamente, especialmente em bairros como Palermo, Recoleta e San Telmo.\n",
    "\n",
    "A Airbnb transformou a indústria da hospitalidade, oferecendo acomodações mais autênticas e econômicas. No entanto, essa expansão trouxe desafios regulatórios. Embora haja um registro obrigatório de aluguéis temporários em Buenos Aires com cerca de 500 propriedades listadas, a plataforma Inside Airbnb indica que existem mais de 35 mil ofertas na cidade. Esta discrepância levanta questões sobre a legalidade e a regulamentação dos aluguéis temporários.\n",
    "\n",
    "</div>"
   ]
  },
  {
   "cell_type": "markdown",
   "metadata": {},
   "source": [
    "\n",
    "<div align=\"justify\">\n",
    "\n",
    "Por fim, Buenos Aires é uma cidade onde história e modernidade coexistem harmoniosamente. Suas transformações políticas e territoriais, juntamente com a influência de plataformas como o Airbnb, moldaram a cidade contemporânea. Visitar Buenos Aires é uma experiência enriquecedora em qualquer época do ano, com destaque para a primavera e o outono, quando o clima é agradável e as multidões são menores.\n",
    "\n",
    "Com uma combinação única de cultura, história e inovação, Buenos Aires continua a ser um destino atraente para visitantes de todo o mundo, por esses motivos vamos juntos segui pela minha análise do [conjunto de dados](https://data.insideairbnb.com/argentina/ciudad-aut%C3%B4noma-de-buenos-aires/buenos-aires/2024-06-29/visualisations/listings.csv) disponibilizados pelo portal [Inside Airbnb](http://insideairbnb.com/get-the-data.html), onde é possível baixar uma grande quantidade de dados para desenvolver projetos e soluções de Data Science.\n",
    "\n",
    "</div>"
   ]
  },
  {
   "cell_type": "markdown",
   "metadata": {},
   "source": [
    "A  é uma empresa americana de hospedagem fundada em 2008 por Brian Chesky, Joe Gebbia e Nathan Blecharczyk. Ela funciona como intermediária, cobrando uma taxa tanto dos anfitriões quanto dos hóspedes, através do site ou aplicativo. Os anfitriões podem listar suas propriedades, enquanto os hóspedes podem pesquisar e reservar acomodações de maneira fácil e segura.\n",
    "\n",
    "Além de hospedagem, a Airbnb expandiu seus serviços para incluir experiências, onde os anfitriões podem oferecer atividades como tours guiados, workshops de culinária e outras atividades locais. A empresa teve um impacto significativo na indústria de hospitalidade, competindo com hotéis tradicionais e proporcionando uma alternativa mais autêntica e muitas vezes mais econômica para os viajantes.\n",
    "\n",
    "No final de 2018, a startup fundada há 10 anos já havia **hospedado mais de 300 milhões** de pessoas ao redor do mundo, número que lhe deu o reconhecimento de ser a **maior empresa hoteleira da atualidade, sem possuir um único hotel**!\n",
    "\n",
    "Em dezembro de 2020, a Airbnb abriu seu capital, com uma oferta pública inicial (IPO) que avaliou a empresa em aproximadamente 47 bilhões de dólares. Na data da realização desta análise, o valor de mercado da empresa é de aproximadamente 93 bilhões de dólares."
   ]
  },
  {
   "cell_type": "markdown",
   "metadata": {},
   "source": [
    "\n",
    "<div align=\"justify\">\n",
    "\n",
    "### Obtenção dos Dados\n",
    "\n",
    "**Para esta análise, usaremos o arquivo `listings.csv` - *Summary information and metrics for listings in... (good for visualisations)*, onde neste *notebook* iremos analisar os dados brutos e extrair insights pertinentes.**\n",
    "\n",
    "Importante: O portal está em constante evolução, e em determinado momento, pode ser que o [conjunto de dados](https://data.insideairbnb.com/argentina/ciudad-aut%C3%B4noma-de-buenos-aires/buenos-aires/2024-06-29/visualisations/listings.csv) exato utilizado neste notebook não esteja mais disponível, o que quebraria nosso código.\n",
    "\n",
    "</div>"
   ]
  },
  {
   "cell_type": "markdown",
   "metadata": {},
   "source": [
    "#### Vamos ao projeto!\n",
    "\n",
    "##### Inicialmente iremos instalar os pacotes necessários para a ralização dos nossos dados e logo após realizaremos a importação dos mesmos.\n",
    "\n",
    "* `pandas`: Manipulação e análise de dados tabulares\n",
    "* `matplotlib`: Criação de gráficos estáticos, animados e interativos\n",
    "* `seaborn`: Visualização de dados estatísticos\n",
    "* `yfinance`: Download de dados financeiros históricos do Yahoo Finance\n",
    "* `folium`: Criação de mapas interativos"
   ]
  },
  {
   "cell_type": "code",
   "execution_count": 1,
   "metadata": {},
   "outputs": [],
   "source": [
    "# Instalando pacotes necessários\n",
    "!pip install pandas seaborn yfinance matplotlib folium -q"
   ]
  },
  {
   "cell_type": "code",
   "execution_count": 2,
   "metadata": {},
   "outputs": [],
   "source": [
    "# Importar os pacotes necessários\n",
    "import folium\n",
    "import pandas as pd\n",
    "import seaborn as sns\n",
    "import yfinance as yf\n",
    "import matplotlib.pyplot as plt\n",
    "\n",
    "from datetime import datetime\n",
    "\n",
    "# Para exibir gráficos inline no Jupyter Notebook\n",
    "%matplotlib inline"
   ]
  },
  {
   "cell_type": "markdown",
   "metadata": {},
   "source": [
    "#### Importaremos a seguir o arquoivo em 'csv' contendos os dados necessários para nossa análise."
   ]
  },
  {
   "cell_type": "code",
   "execution_count": 3,
   "metadata": {},
   "outputs": [],
   "source": [
    "# Importar o arquivo listings.csv para um DataFrame\n",
    "DATA_PATH = 'https://data.insideairbnb.com/argentina/ciudad-aut%C3%B3noma-de-buenos-aires/buenos-aires/2024-06-29/visualisations/listings.csv'\n",
    "df = pd.read_csv(DATA_PATH)"
   ]
  },
  {
   "cell_type": "markdown",
   "metadata": {},
   "source": [
    "### Análise Exploratória\n",
    "\n",
    "##### Para uma análise breve da estrutura do dataframe, vamos chamar a função 'head' e a 'tail'. Funções esta que possibilitam verificar as cinco primeiras entradas e as cinco últimas saidas."
   ]
  },
  {
   "cell_type": "code",
   "execution_count": 4,
   "metadata": {},
   "outputs": [
    {
     "data": {
      "text/html": [
       "<div>\n",
       "<style scoped>\n",
       "    .dataframe tbody tr th:only-of-type {\n",
       "        vertical-align: middle;\n",
       "    }\n",
       "\n",
       "    .dataframe tbody tr th {\n",
       "        vertical-align: top;\n",
       "    }\n",
       "\n",
       "    .dataframe thead th {\n",
       "        text-align: right;\n",
       "    }\n",
       "</style>\n",
       "<table border=\"1\" class=\"dataframe\">\n",
       "  <thead>\n",
       "    <tr style=\"text-align: right;\">\n",
       "      <th></th>\n",
       "      <th>id</th>\n",
       "      <th>name</th>\n",
       "      <th>host_id</th>\n",
       "      <th>host_name</th>\n",
       "      <th>neighbourhood_group</th>\n",
       "      <th>neighbourhood</th>\n",
       "      <th>latitude</th>\n",
       "      <th>longitude</th>\n",
       "      <th>room_type</th>\n",
       "      <th>price</th>\n",
       "      <th>minimum_nights</th>\n",
       "      <th>number_of_reviews</th>\n",
       "      <th>last_review</th>\n",
       "      <th>reviews_per_month</th>\n",
       "      <th>calculated_host_listings_count</th>\n",
       "      <th>availability_365</th>\n",
       "      <th>number_of_reviews_ltm</th>\n",
       "      <th>license</th>\n",
       "    </tr>\n",
       "  </thead>\n",
       "  <tbody>\n",
       "    <tr>\n",
       "      <th>0</th>\n",
       "      <td>11508</td>\n",
       "      <td>Amazing Luxurious Apt-Palermo Soho</td>\n",
       "      <td>42762</td>\n",
       "      <td>Candela</td>\n",
       "      <td>NaN</td>\n",
       "      <td>Palermo</td>\n",
       "      <td>-34.58184</td>\n",
       "      <td>-58.42415</td>\n",
       "      <td>Entire home/apt</td>\n",
       "      <td>61788.0</td>\n",
       "      <td>3</td>\n",
       "      <td>41</td>\n",
       "      <td>2024-04-22</td>\n",
       "      <td>0.28</td>\n",
       "      <td>1</td>\n",
       "      <td>338</td>\n",
       "      <td>5</td>\n",
       "      <td>NaN</td>\n",
       "    </tr>\n",
       "    <tr>\n",
       "      <th>1</th>\n",
       "      <td>186005</td>\n",
       "      <td>Modern apartment in Downtown Buenos Aires</td>\n",
       "      <td>893209</td>\n",
       "      <td>Victoria</td>\n",
       "      <td>NaN</td>\n",
       "      <td>Retiro</td>\n",
       "      <td>-34.59804</td>\n",
       "      <td>-58.37688</td>\n",
       "      <td>Entire home/apt</td>\n",
       "      <td>63737.0</td>\n",
       "      <td>7</td>\n",
       "      <td>85</td>\n",
       "      <td>2023-10-28</td>\n",
       "      <td>0.56</td>\n",
       "      <td>4</td>\n",
       "      <td>293</td>\n",
       "      <td>8</td>\n",
       "      <td>NaN</td>\n",
       "    </tr>\n",
       "    <tr>\n",
       "      <th>2</th>\n",
       "      <td>14222</td>\n",
       "      <td>RELAX IN HAPPY HOUSE - PALERMO, BUENOS AIRES</td>\n",
       "      <td>87710233</td>\n",
       "      <td>María</td>\n",
       "      <td>NaN</td>\n",
       "      <td>Palermo</td>\n",
       "      <td>-34.58617</td>\n",
       "      <td>-58.41036</td>\n",
       "      <td>Entire home/apt</td>\n",
       "      <td>16032.0</td>\n",
       "      <td>7</td>\n",
       "      <td>119</td>\n",
       "      <td>2024-06-12</td>\n",
       "      <td>0.82</td>\n",
       "      <td>7</td>\n",
       "      <td>13</td>\n",
       "      <td>11</td>\n",
       "      <td>NaN</td>\n",
       "    </tr>\n",
       "    <tr>\n",
       "      <th>3</th>\n",
       "      <td>188154</td>\n",
       "      <td>At the heart of San Telmo  Double</td>\n",
       "      <td>906277</td>\n",
       "      <td>Magdalena</td>\n",
       "      <td>NaN</td>\n",
       "      <td>San Telmo</td>\n",
       "      <td>-34.62063</td>\n",
       "      <td>-58.36967</td>\n",
       "      <td>Private room</td>\n",
       "      <td>22763.0</td>\n",
       "      <td>2</td>\n",
       "      <td>80</td>\n",
       "      <td>2024-03-09</td>\n",
       "      <td>0.53</td>\n",
       "      <td>6</td>\n",
       "      <td>330</td>\n",
       "      <td>7</td>\n",
       "      <td>NaN</td>\n",
       "    </tr>\n",
       "    <tr>\n",
       "      <th>4</th>\n",
       "      <td>48535</td>\n",
       "      <td>Elegant apartment in downtown Bs.As</td>\n",
       "      <td>221044</td>\n",
       "      <td>Florencia</td>\n",
       "      <td>NaN</td>\n",
       "      <td>Retiro</td>\n",
       "      <td>-34.59620</td>\n",
       "      <td>-58.37529</td>\n",
       "      <td>Entire home/apt</td>\n",
       "      <td>45526.0</td>\n",
       "      <td>90</td>\n",
       "      <td>0</td>\n",
       "      <td>NaN</td>\n",
       "      <td>NaN</td>\n",
       "      <td>1</td>\n",
       "      <td>364</td>\n",
       "      <td>0</td>\n",
       "      <td>NaN</td>\n",
       "    </tr>\n",
       "  </tbody>\n",
       "</table>\n",
       "</div>"
      ],
      "text/plain": [
       "       id                                          name   host_id  host_name  \\\n",
       "0   11508            Amazing Luxurious Apt-Palermo Soho     42762    Candela   \n",
       "1  186005     Modern apartment in Downtown Buenos Aires    893209   Victoria   \n",
       "2   14222  RELAX IN HAPPY HOUSE - PALERMO, BUENOS AIRES  87710233      María   \n",
       "3  188154             At the heart of San Telmo  Double    906277  Magdalena   \n",
       "4   48535           Elegant apartment in downtown Bs.As    221044  Florencia   \n",
       "\n",
       "   neighbourhood_group neighbourhood  latitude  longitude        room_type  \\\n",
       "0                  NaN       Palermo -34.58184  -58.42415  Entire home/apt   \n",
       "1                  NaN        Retiro -34.59804  -58.37688  Entire home/apt   \n",
       "2                  NaN       Palermo -34.58617  -58.41036  Entire home/apt   \n",
       "3                  NaN     San Telmo -34.62063  -58.36967     Private room   \n",
       "4                  NaN        Retiro -34.59620  -58.37529  Entire home/apt   \n",
       "\n",
       "     price  minimum_nights  number_of_reviews last_review  reviews_per_month  \\\n",
       "0  61788.0               3                 41  2024-04-22               0.28   \n",
       "1  63737.0               7                 85  2023-10-28               0.56   \n",
       "2  16032.0               7                119  2024-06-12               0.82   \n",
       "3  22763.0               2                 80  2024-03-09               0.53   \n",
       "4  45526.0              90                  0         NaN                NaN   \n",
       "\n",
       "   calculated_host_listings_count  availability_365  number_of_reviews_ltm  \\\n",
       "0                               1               338                      5   \n",
       "1                               4               293                      8   \n",
       "2                               7                13                     11   \n",
       "3                               6               330                      7   \n",
       "4                               1               364                      0   \n",
       "\n",
       "  license  \n",
       "0     NaN  \n",
       "1     NaN  \n",
       "2     NaN  \n",
       "3     NaN  \n",
       "4     NaN  "
      ]
     },
     "execution_count": 4,
     "metadata": {},
     "output_type": "execute_result"
    }
   ],
   "source": [
    "# Verificando nosso 'dataframe' analisando as primeiras entradas\n",
    "df.head()"
   ]
  },
  {
   "cell_type": "code",
   "execution_count": 5,
   "metadata": {},
   "outputs": [
    {
     "data": {
      "text/html": [
       "<div>\n",
       "<style scoped>\n",
       "    .dataframe tbody tr th:only-of-type {\n",
       "        vertical-align: middle;\n",
       "    }\n",
       "\n",
       "    .dataframe tbody tr th {\n",
       "        vertical-align: top;\n",
       "    }\n",
       "\n",
       "    .dataframe thead th {\n",
       "        text-align: right;\n",
       "    }\n",
       "</style>\n",
       "<table border=\"1\" class=\"dataframe\">\n",
       "  <thead>\n",
       "    <tr style=\"text-align: right;\">\n",
       "      <th></th>\n",
       "      <th>id</th>\n",
       "      <th>name</th>\n",
       "      <th>host_id</th>\n",
       "      <th>host_name</th>\n",
       "      <th>neighbourhood_group</th>\n",
       "      <th>neighbourhood</th>\n",
       "      <th>latitude</th>\n",
       "      <th>longitude</th>\n",
       "      <th>room_type</th>\n",
       "      <th>price</th>\n",
       "      <th>minimum_nights</th>\n",
       "      <th>number_of_reviews</th>\n",
       "      <th>last_review</th>\n",
       "      <th>reviews_per_month</th>\n",
       "      <th>calculated_host_listings_count</th>\n",
       "      <th>availability_365</th>\n",
       "      <th>number_of_reviews_ltm</th>\n",
       "      <th>license</th>\n",
       "    </tr>\n",
       "  </thead>\n",
       "  <tbody>\n",
       "    <tr>\n",
       "      <th>37030</th>\n",
       "      <td>1186706513858905394</td>\n",
       "      <td>Luminosa y Cerca de todo</td>\n",
       "      <td>5741869</td>\n",
       "      <td>Ramiro</td>\n",
       "      <td>NaN</td>\n",
       "      <td>Belgrano</td>\n",
       "      <td>-34.546853</td>\n",
       "      <td>-58.450930</td>\n",
       "      <td>Entire home/apt</td>\n",
       "      <td>154789.0</td>\n",
       "      <td>7</td>\n",
       "      <td>0</td>\n",
       "      <td>NaN</td>\n",
       "      <td>NaN</td>\n",
       "      <td>3</td>\n",
       "      <td>364</td>\n",
       "      <td>0</td>\n",
       "      <td>NaN</td>\n",
       "    </tr>\n",
       "    <tr>\n",
       "      <th>37031</th>\n",
       "      <td>1188581546522211306</td>\n",
       "      <td>Departamento en Palermo Soho</td>\n",
       "      <td>140615013</td>\n",
       "      <td>Florencia</td>\n",
       "      <td>NaN</td>\n",
       "      <td>Palermo</td>\n",
       "      <td>-34.584131</td>\n",
       "      <td>-58.425125</td>\n",
       "      <td>Entire home/apt</td>\n",
       "      <td>29137.0</td>\n",
       "      <td>3</td>\n",
       "      <td>0</td>\n",
       "      <td>NaN</td>\n",
       "      <td>NaN</td>\n",
       "      <td>2</td>\n",
       "      <td>26</td>\n",
       "      <td>0</td>\n",
       "      <td>NaN</td>\n",
       "    </tr>\n",
       "    <tr>\n",
       "      <th>37032</th>\n",
       "      <td>1188588226059760197</td>\n",
       "      <td>Departamento Céntrico en Almagro</td>\n",
       "      <td>570638329</td>\n",
       "      <td>Urban</td>\n",
       "      <td>NaN</td>\n",
       "      <td>Almagro</td>\n",
       "      <td>-34.611896</td>\n",
       "      <td>-58.418361</td>\n",
       "      <td>Entire home/apt</td>\n",
       "      <td>29137.0</td>\n",
       "      <td>1</td>\n",
       "      <td>0</td>\n",
       "      <td>NaN</td>\n",
       "      <td>NaN</td>\n",
       "      <td>2</td>\n",
       "      <td>365</td>\n",
       "      <td>0</td>\n",
       "      <td>NaN</td>\n",
       "    </tr>\n",
       "    <tr>\n",
       "      <th>37033</th>\n",
       "      <td>1188641321963525515</td>\n",
       "      <td>Apart Blue</td>\n",
       "      <td>583844736</td>\n",
       "      <td>Marisa</td>\n",
       "      <td>NaN</td>\n",
       "      <td>Palermo</td>\n",
       "      <td>-34.586910</td>\n",
       "      <td>-58.431540</td>\n",
       "      <td>Entire home/apt</td>\n",
       "      <td>32779.0</td>\n",
       "      <td>1</td>\n",
       "      <td>0</td>\n",
       "      <td>NaN</td>\n",
       "      <td>NaN</td>\n",
       "      <td>1</td>\n",
       "      <td>365</td>\n",
       "      <td>0</td>\n",
       "      <td>NaN</td>\n",
       "    </tr>\n",
       "    <tr>\n",
       "      <th>37034</th>\n",
       "      <td>1188643514120718632</td>\n",
       "      <td>Hermoso departamento en Palermo</td>\n",
       "      <td>505709984</td>\n",
       "      <td>Jerónimo</td>\n",
       "      <td>NaN</td>\n",
       "      <td>Palermo</td>\n",
       "      <td>-34.587563</td>\n",
       "      <td>-58.428171</td>\n",
       "      <td>Entire home/apt</td>\n",
       "      <td>21124.0</td>\n",
       "      <td>1</td>\n",
       "      <td>0</td>\n",
       "      <td>NaN</td>\n",
       "      <td>NaN</td>\n",
       "      <td>2</td>\n",
       "      <td>363</td>\n",
       "      <td>0</td>\n",
       "      <td>NaN</td>\n",
       "    </tr>\n",
       "  </tbody>\n",
       "</table>\n",
       "</div>"
      ],
      "text/plain": [
       "                        id                              name    host_id  \\\n",
       "37030  1186706513858905394          Luminosa y Cerca de todo    5741869   \n",
       "37031  1188581546522211306      Departamento en Palermo Soho  140615013   \n",
       "37032  1188588226059760197  Departamento Céntrico en Almagro  570638329   \n",
       "37033  1188641321963525515                        Apart Blue  583844736   \n",
       "37034  1188643514120718632   Hermoso departamento en Palermo  505709984   \n",
       "\n",
       "       host_name  neighbourhood_group neighbourhood   latitude  longitude  \\\n",
       "37030     Ramiro                  NaN      Belgrano -34.546853 -58.450930   \n",
       "37031  Florencia                  NaN       Palermo -34.584131 -58.425125   \n",
       "37032      Urban                  NaN       Almagro -34.611896 -58.418361   \n",
       "37033     Marisa                  NaN       Palermo -34.586910 -58.431540   \n",
       "37034   Jerónimo                  NaN       Palermo -34.587563 -58.428171   \n",
       "\n",
       "             room_type     price  minimum_nights  number_of_reviews  \\\n",
       "37030  Entire home/apt  154789.0               7                  0   \n",
       "37031  Entire home/apt   29137.0               3                  0   \n",
       "37032  Entire home/apt   29137.0               1                  0   \n",
       "37033  Entire home/apt   32779.0               1                  0   \n",
       "37034  Entire home/apt   21124.0               1                  0   \n",
       "\n",
       "      last_review  reviews_per_month  calculated_host_listings_count  \\\n",
       "37030         NaN                NaN                               3   \n",
       "37031         NaN                NaN                               2   \n",
       "37032         NaN                NaN                               2   \n",
       "37033         NaN                NaN                               1   \n",
       "37034         NaN                NaN                               2   \n",
       "\n",
       "       availability_365  number_of_reviews_ltm license  \n",
       "37030               364                      0     NaN  \n",
       "37031                26                      0     NaN  \n",
       "37032               365                      0     NaN  \n",
       "37033               365                      0     NaN  \n",
       "37034               363                      0     NaN  "
      ]
     },
     "execution_count": 5,
     "metadata": {},
     "output_type": "execute_result"
    }
   ],
   "source": [
    "# Verificando nosso 'dataframe' analisando as últimas saídas\n",
    "df.tail()"
   ]
  },
  {
   "cell_type": "markdown",
   "metadata": {},
   "source": [
    "#### Vamos agora listar as cuunas pertencentes ao dataframe e contextualizar cada uma, asssim é possivel realziar melhores insides sobre os dados aprensetados.\n",
    "\n",
    "**Dicionário das variáveis**\n",
    "\n",
    "* `id` - identificador único de cada imóvel\n",
    "* `name` - nome do imóvel anunciado\n",
    "* `host_id` - identificador único de cada usuário\n",
    "* `host_name` - nome do usuário\n",
    "* `neighbourhood_group` - indica o grupo de bairros\n",
    "* `neighbourhood` - indica qual a vizinhança\n",
    "* `latitude` - coordenada da latitude do imóvel\n",
    "* `longitude` - coordenada da longitude do imóvel\n",
    "* `room_type` - tipo de imóvel ofertado\n",
    "* `price` - valor da diária\n",
    "* `minimum_nights` - quantidade mínima de noites que os proprietários alugam\n",
    "* `number_of_reviews` - número de avaliações que a propriedade recebeu\n",
    "* `last_review` - data da última avaliação\n",
    "* `reviews_per_month` - quantidade de avaliações recebidas por mês\n",
    "* `calculated_host_listings_count` - quantidade de imóveis que um mesmo anfitrião possui anunciados\n",
    "* `availability_365` - número de dias de disponibilidade dentro de 365 dias\n",
    "* `number_of_reviews_ltm` - quantidade de avaliações nos últimos 12 meses\n",
    "* `license` - número de registro do imóvel"
   ]
  },
  {
   "cell_type": "markdown",
   "metadata": {},
   "source": [
    "##### É preciso ter uma dimenção dos tamanhos do nosso dataframe, para isso iremso utilizar as funções \"shape\" e \"dtypes\".\n",
    "##### Elas vão informar o tamanho do nosso dataframe nos informando o número de váriaveis (colunas), o número de entradas (linhas) e o tipo de cada variável."
   ]
  },
  {
   "cell_type": "code",
   "execution_count": 11,
   "metadata": {},
   "outputs": [
    {
     "name": "stdout",
     "output_type": "stream",
     "text": [
      "Tamanho do DataFrame:\n",
      "-->  37035 linhas.\n",
      "-->  18 colunas.\n",
      "\n",
      "Tipos de variáveis: \n",
      "id                                  int64\n",
      "name                               object\n",
      "host_id                             int64\n",
      "host_name                          object\n",
      "neighbourhood_group               float64\n",
      "neighbourhood                      object\n",
      "latitude                          float64\n",
      "longitude                         float64\n",
      "room_type                          object\n",
      "price                             float64\n",
      "minimum_nights                      int64\n",
      "number_of_reviews                   int64\n",
      "last_review                        object\n",
      "reviews_per_month                 float64\n",
      "calculated_host_listings_count      int64\n",
      "availability_365                    int64\n",
      "number_of_reviews_ltm               int64\n",
      "license                            object\n",
      "dtype: object\n"
     ]
    }
   ],
   "source": [
    "# Identificar o volume de dados e a forma do DataFrame\n",
    "print('Tamanho do DataFrame:')\n",
    "print('-->  {} linhas.'.format(df.shape[0]))\n",
    "print('-->  {} colunas.'.format(df.shape[1]))\n",
    "\n",
    "# Verificar os tipos de variáveis\n",
    "print('\\nTipos de variáveis: \\n{}'.format(df.dtypes))"
   ]
  },
  {
   "cell_type": "markdown",
   "metadata": {},
   "source": [
    "### **Q2. Qual a porcentagem de valores ausentes no *dataset*?**"
   ]
  },
  {
   "cell_type": "code",
   "execution_count": null,
   "metadata": {},
   "outputs": [],
   "source": [
    "# Ordena em ordem decrescente as variáveis por seus valores ausentes\n",
    "(df.isnull().sum().sort_values(ascending=False) / df.shape[0]) * 100"
   ]
  },
  {
   "cell_type": "markdown",
   "metadata": {},
   "source": [
    "### **Q3. Qual o tipo de distribuição das variáveis?**"
   ]
  },
  {
   "cell_type": "code",
   "execution_count": null,
   "metadata": {},
   "outputs": [],
   "source": [
    "# Plotar o histograma das variáveis numéricas\n",
    "df.hist(column=['latitude', 'longitude', 'price', 'minimum_nights', 'number_of_reviews', \n",
    "                'reviews_per_month', 'calculated_host_listings_count', 'availability_365', \n",
    "                'number_of_reviews_ltm'], bins=18, figsize=(22, 12), grid=False)\n",
    "plt.tight_layout()\n",
    "plt.show()"
   ]
  },
  {
   "cell_type": "markdown",
   "metadata": {},
   "source": [
    "**Antes da verificação dos *outliers*, vamos converter os valores da variável `price` de pesos argentinos para dólares.**\n",
    "\n",
    "* Usaremos a biblioteca `yfinance` para importar a cotação atual."
   ]
  },
  {
   "cell_type": "code",
   "execution_count": null,
   "metadata": {},
   "outputs": [],
   "source": [
    "# Importando a cotação atual da moeda 'ARSUSD=X' com Yahoo Finance\n",
    "arsusd = yf.download('ARSUSD=X', start=datetime.now())['Adj Close']\n",
    "arsusd = arsusd.iloc[0]"
   ]
  },
  {
   "cell_type": "code",
   "execution_count": null,
   "metadata": {},
   "outputs": [],
   "source": [
    "# Realizando cópia do DataFrame original\n",
    "df_clean = df.copy()\n",
    "\n",
    "# Converter o preço para dólares\n",
    "df_clean['price'] = df_clean['price'] * arsusd"
   ]
  },
  {
   "cell_type": "markdown",
   "metadata": {},
   "source": [
    "### **Q4. Verificar os *outliers* presentes no `dataset`.**"
   ]
  },
  {
   "cell_type": "code",
   "execution_count": null,
   "metadata": {},
   "outputs": [],
   "source": [
    "# Ver resumo estatístico das variáveis numéricas\n",
    "df_clean[['price', 'minimum_nights', 'availability_365', 'number_of_reviews', \n",
    "            'reviews_per_month', 'number_of_reviews_ltm', 'calculated_host_listings_count']].describe()"
   ]
  },
  {
   "cell_type": "markdown",
   "metadata": {},
   "source": [
    "Após observar a distribuição do histograma e o resumo estatístico, é possível verificar as seguintes situações:\n",
    "\n",
    "* As colunas `neighbourhood_group` e `license` têm mais de 98% de seus dados ausentes.\n",
    "* Existem possíveis outliers nas variáveis `price` e `minimum_nights`."
   ]
  },
  {
   "cell_type": "code",
   "execution_count": null,
   "metadata": {},
   "outputs": [],
   "source": [
    "# Excluir as colunas 'neighbourhood_group' e 'license'\n",
    "df_clean.drop(columns=['neighbourhood_group', 'license'], inplace=True)"
   ]
  },
  {
   "cell_type": "code",
   "execution_count": null,
   "metadata": {},
   "outputs": [],
   "source": [
    "# Calcular a porcentagem de exclusão\n",
    "print('Esta exclusão representou {:.4f}% do DataFrame'.format(\n",
    "    df_clean[(df_clean['price'].isnull()) & \n",
    "                (df_clean['availability_365'] == 0) & \n",
    "                (df_clean['number_of_reviews'] == 0)].shape[0] / df.shape[0] * 100\n",
    "))\n",
    "\n",
    "# Exclusão dos imóveis que não têm preço, nunca receberam avaliação e têm zero dias disponíveis\n",
    "df_clean.drop(\n",
    "    df_clean[(df_clean['price'].isnull()) & \n",
    "                (df_clean['availability_365'] == 0) & \n",
    "                (df_clean['number_of_reviews'] == 0)].index, \n",
    "    axis=0, \n",
    "    inplace=True\n",
    ")"
   ]
  },
  {
   "cell_type": "code",
   "execution_count": null,
   "metadata": {},
   "outputs": [],
   "source": [
    "# Plotar boxplot dos preços\n",
    "df_clean['price'].plot(kind='box', vert=False, xlim=(0, 250), figsize=(15, 3))\n",
    "plt.title('Distribuição dos Preços')\n",
    "plt.xlabel('Preço (em dólares)')\n",
    "plt.show()\n",
    "\n",
    "# Verificar preços acima de 250 dólares\n",
    "print('Preço: valores acima de 250 dólares')\n",
    "print(\"{} entradas\".format(len(df_clean[df_clean['price'] > 250])))\n",
    "print(\"{:.4f}%\".format((len(df_clean[df_clean['price'] > 250]) / df_clean.shape[0]) * 100))"
   ]
  },
  {
   "cell_type": "code",
   "execution_count": null,
   "metadata": {},
   "outputs": [],
   "source": [
    "# Plotar boxplot das noites mínimas\n",
    "df_clean['minimum_nights'].plot(kind='box', vert=False, xlim=(0, 31), figsize=(15, 3))\n",
    "plt.title('Distribuição das Noites Mínimas')\n",
    "plt.xlabel('Número de Noites Mínimas')\n",
    "plt.show()\n",
    "\n",
    "# Verificar valores acima de 31 dias para 'minimum_nights'\n",
    "print('Minimum Nights: valores acima de 31 dias')\n",
    "print(\"{} entradas\".format(len(df_clean[df_clean['minimum_nights'] > 31])))\n",
    "print(\"{:.4f}%\".format((len(df_clean[df_clean['minimum_nights'] > 31]) / df_clean.shape[0]) * 100))"
   ]
  },
  {
   "cell_type": "code",
   "execution_count": null,
   "metadata": {},
   "outputs": [],
   "source": [
    "# Exclusão das linhas com preço maior que 250 dólares\n",
    "df_clean.drop(df_clean[df_clean['price'] > 250].index, axis=0, inplace=True)\n",
    "\n",
    "# Exclusão das linhas com noites mínimas maiores que 31 dias\n",
    "df_clean.drop(df_clean[df_clean['minimum_nights'] > 31].index, axis=0, inplace=True)\n",
    "\n",
    "# Histograma das variáveis numéricas após a exclusão dos outliers\n",
    "df_clean.hist(column=['price', 'minimum_nights', 'number_of_reviews', 'reviews_per_month', \n",
    "                        'calculated_host_listings_count', 'availability_365', 'number_of_reviews_ltm'], \n",
    "                        bins=18, figsize=(22, 12), grid=False)\n",
    "plt.tight_layout()\n",
    "plt.show()"
   ]
  },
  {
   "cell_type": "markdown",
   "metadata": {},
   "source": [
    "### **Q5. Qual a média dos preços de aluguel?**"
   ]
  },
  {
   "cell_type": "code",
   "execution_count": null,
   "metadata": {},
   "outputs": [],
   "source": [
    "# Ver a média da coluna 'price'\n",
    "print('Média de preços em Buenos Aires é de {:.2f} dólares.'.format(df_clean['price'].mean()))\n",
    "\n",
    "# Ver a mediana de preços em Buenos Aires por bairro, ordenado da maior para a menor\n",
    "print('Mediana de preços em Buenos Aires por bairro, ordenado da maior à menor:')\n",
    "print(df_clean.groupby('neighbourhood')['price'].median().sort_values(ascending=False))"
   ]
  },
  {
   "cell_type": "markdown",
   "metadata": {},
   "source": [
    "### **Q6. Qual a correlação existente entre as variáveis**"
   ]
  },
  {
   "cell_type": "code",
   "execution_count": null,
   "metadata": {},
   "outputs": [],
   "source": [
    "# Criar uma matriz de correlação\n",
    "df_corr = df_clean[['price', 'minimum_nights', 'number_of_reviews', 'reviews_per_month', \n",
    "                    'calculated_host_listings_count', 'availability_365', 'number_of_reviews_ltm']].corr()\n",
    "\n",
    "# Mostrar a matriz de correlação\n",
    "print('Matriz de Correlação:')\n",
    "df_corr"
   ]
  },
  {
   "cell_type": "code",
   "execution_count": null,
   "metadata": {},
   "outputs": [],
   "source": [
    "# Plotar um heatmap a partir das correlações\n",
    "plt.figure(figsize=(10, 8))  # Ajustar o tamanho da figura para melhor visualização\n",
    "sns.heatmap(df_corr, annot=True, fmt='.2f', cmap='RdBu', \n",
    "            center=0,  # Ajusta a coloração para que zero esteja no centro do mapa de cores\n",
    "            linewidths=0.5, linecolor='white', square=True)\n",
    "plt.title('Matriz de Correlação')\n",
    "plt.show()"
   ]
  },
  {
   "cell_type": "markdown",
   "metadata": {},
   "source": [
    "### **Q7. Qual o tipo de imóvel mais alugado no Airbnb?**"
   ]
  },
  {
   "cell_type": "code",
   "execution_count": null,
   "metadata": {},
   "outputs": [],
   "source": [
    "# Mostrar a quantidade de cada tipo de imóvel disponível\n",
    "print('Imóveis disponíveis para aluguel:')\n",
    "print(df_clean['room_type'].value_counts().to_string())"
   ]
  },
  {
   "cell_type": "code",
   "execution_count": null,
   "metadata": {},
   "outputs": [],
   "source": [
    "# mostrar a porcentagem de cada tipo de imóvel disponível\n",
    "print('Porcentagens de imóveis disponíveis para aluguel: {}'.format(((\n",
    "                                        df_clean['room_type'].value_counts() / df_clean.shape[0]) * 100).to_string()))\n",
    "\n",
    "# Mostrar a porcentagem de cada tipo de imóvel disponível\n",
    "print('Porcentagem de imóveis disponíveis para aluguel: {}'.format(((\n",
    "                                        df_clean['room_type'].value_counts() / df_clean.shape[0]) * 100).to_string()))"
   ]
  },
  {
   "cell_type": "markdown",
   "metadata": {},
   "source": [
    "### **Q8. Qual a localidade mais cara do dataset?**"
   ]
  },
  {
   "cell_type": "code",
   "execution_count": null,
   "metadata": {},
   "outputs": [],
   "source": [
    "# Ver a média dos preços por bairro\n",
    "print('Média de preço em cada bairro: {}'.format(\n",
    "                                        df_clean.groupby('neighbourhood')['price'].mean().sort_values(ascending=False)))"
   ]
  },
  {
   "cell_type": "code",
   "execution_count": null,
   "metadata": {},
   "outputs": [],
   "source": [
    "# Ver o valor máximo dos preços por bairro\n",
    "print('Valor máximo em cada bairro: {}'.format(\n",
    "                                        df_clean.groupby('neighbourhood')['price'].max().sort_values(ascending=False)))"
   ]
  },
  {
   "cell_type": "code",
   "execution_count": null,
   "metadata": {},
   "outputs": [],
   "source": [
    "# Criar um mapa centrado na média das coordenadas\n",
    "map_center = [df_clean['latitude'].mean(), df_clean['longitude'].mean()]\n",
    "mymap = folium.Map(location=map_center, zoom_start=12)\n",
    "\n",
    "# Adicionar pontos ao mapa\n",
    "for _, row in df_clean.iterrows():\n",
    "    popup_text = f\"\"\"\n",
    "    <b>Nome:</b> {row['name']}<br>\n",
    "    <b>Tipo:</b> {row['room_type']}<br>\n",
    "    <b>Anfitrião:</b> {row['host_name']}<br>\n",
    "    <b>Preço:</b> ${row['price']:.2f}<br>\n",
    "    <b>Latitude:</b> {row['latitude']}<br>\n",
    "    <b>Longitude:</b> {row['longitude']}\n",
    "    \"\"\"\n",
    "    folium.CircleMarker(\n",
    "        location=[row['latitude'], row['longitude']],\n",
    "        radius=0.5,  # Tamanho do ponto\n",
    "        color='red',  # Cor do ponto\n",
    "        fill=True,\n",
    "        fill_color='red',\n",
    "        fill_opacity=0.7,\n",
    "        popup=folium.Popup(popup_text, max_width=300)\n",
    "    ).add_to(mymap)\n",
    "\n",
    "# Salvar o mapa em um arquivo HTML\n",
    "mymap.save('map_buenos_aires.html')\n",
    "\n",
    "# Exibir o mapa no Jupyter Notebook (se estiver usando)\n",
    "mymap"
   ]
  },
  {
   "cell_type": "markdown",
   "metadata": {},
   "source": [
    "### **Q9. Qual é a média do mínimo de noites para aluguel (minimum_nights)?**"
   ]
  },
  {
   "cell_type": "code",
   "execution_count": null,
   "metadata": {},
   "outputs": [],
   "source": [
    "# Ver a média da coluna 'minimum_nights'\n",
    "print('A média da coluna \"minimum_nights\" é: {:.2f} dias disponíveis para aluguel'.format(\n",
    "                                                                                    df_clean['minimum_nights'].mean()))"
   ]
  },
  {
   "cell_type": "markdown",
   "metadata": {},
   "source": [
    "## Conclusão\n",
    "\n",
    "Esta análise, embora limitada, revelou informações significativas sobre os dados do Airbnb em Buenos Aires. Mesmo com um conjunto de dados relativamente pequeno, observamos a presença de outliers em várias variáveis, que podem influenciar a precisão dos resultados.\n",
    "\n",
    "Em particular, identificamos outliers nas variáveis de preço e número mínimo de noites de aluguel. Algumas localidades apresentaram poucos imóveis disponíveis para aluguel, e a quantidade mínima de dias disponíveis para locação ultrapassou 31 dias, chegando até 1000 dias em alguns casos. Esses outliers podem distorcer as estatísticas e criar uma visão enviesada de certos atributos.\n",
    "\n",
    "Adicionalmente, é importante ressaltar que utilizamos uma versão resumida do conjunto de dados, disponível em [listings.csv](https://data.insideairbnb.com/argentina/ciudad-aut%C3%B3noma-de-buenos-aires/buenos-aires/2024-06-29/visualisations/listings.csv), que é adequada para uma análise inicial. Para uma análise exploratória mais completa e detalhada, recomenda-se o uso do [conjunto de dados](https://data.insideairbnb.com/argentina/ciudad-aut%C3%B3noma-de-buenos-aires/buenos-aires/2024-06-29/data/listings.csv.gz) completo, que oferece uma visão mais abrangente e detalhada das informações."
   ]
  }
 ],
 "metadata": {
  "kernelspec": {
   "display_name": ".venv_github",
   "language": "python",
   "name": "python3"
  },
  "language_info": {
   "codemirror_mode": {
    "name": "ipython",
    "version": 3
   },
   "file_extension": ".py",
   "mimetype": "text/x-python",
   "name": "python",
   "nbconvert_exporter": "python",
   "pygments_lexer": "ipython3",
   "version": "3.10.12"
  }
 },
 "nbformat": 4,
 "nbformat_minor": 2
}
